{
 "cells": [
  {
   "cell_type": "markdown",
   "metadata": {},
   "source": [
    "# Numpy tutorial"
   ]
  },
  {
   "cell_type": "code",
   "execution_count": 119,
   "metadata": {
    "colab": {
     "base_uri": "https://localhost:8080/"
    },
    "id": "yB2qf84huSeS",
    "outputId": "f84eee8e-3944-400d-8185-2b4063296ba1"
   },
   "outputs": [
    {
     "name": "stdout",
     "output_type": "stream",
     "text": [
      "Requirement already satisfied: numpy in /usr/local/lib/python3.6/dist-packages (1.19.5)\n"
     ]
    }
   ],
   "source": [
    "!pip install numpy"
   ]
  },
  {
   "cell_type": "code",
   "execution_count": 120,
   "metadata": {
    "colab": {
     "base_uri": "https://localhost:8080/"
    },
    "id": "6sN6ki0IvXE4",
    "outputId": "0a23ad52-f116-447f-cbc1-97e6b52e65a6"
   },
   "outputs": [
    {
     "name": "stdout",
     "output_type": "stream",
     "text": [
      "Version: 1.19.5\n"
     ]
    }
   ],
   "source": [
    "!pip show numpy|grep Version"
   ]
  },
  {
   "cell_type": "code",
   "execution_count": 121,
   "metadata": {
    "id": "mI8v09xWuE2D"
   },
   "outputs": [],
   "source": [
    "import numpy as np"
   ]
  },
  {
   "cell_type": "markdown",
   "metadata": {
    "id": "uLw8MvmrvnNs"
   },
   "source": [
    "## Create new array and basic operations\n",
    "\n",
    "Link all numpy types: https://numpy.org/devdocs/user/basics.types.html"
   ]
  },
  {
   "cell_type": "code",
   "execution_count": 122,
   "metadata": {
    "colab": {
     "base_uri": "https://localhost:8080/"
    },
    "id": "Rds-aEtfvgcM",
    "outputId": "e8a01d5a-f594-40dc-c121-92464cd7db5e"
   },
   "outputs": [
    {
     "data": {
      "text/plain": [
       "array([[ 1,  2,  3,  4,  5],\n",
       "       [ 6,  7,  8,  9, 10]], dtype=int32)"
      ]
     },
     "execution_count": 122,
     "metadata": {
      "tags": []
     },
     "output_type": "execute_result"
    }
   ],
   "source": [
    "a = np.array([[1,2,3,4,5], [6,7,8,9,10]], dtype=np.int32)\n",
    "a1 = np.array([[1,2,3,4,5], [6,7,8,9,10]], dtype='int32')\n",
    "a"
   ]
  },
  {
   "cell_type": "code",
   "execution_count": 123,
   "metadata": {
    "colab": {
     "base_uri": "https://localhost:8080/"
    },
    "id": "vK75cr2bwD3e",
    "outputId": "09e3fcd6-a579-4b9b-ca2f-1cd3dc37cdbf"
   },
   "outputs": [
    {
     "data": {
      "text/plain": [
       "(2, 5)"
      ]
     },
     "execution_count": 123,
     "metadata": {
      "tags": []
     },
     "output_type": "execute_result"
    }
   ],
   "source": [
    "a.shape"
   ]
  },
  {
   "cell_type": "code",
   "execution_count": 124,
   "metadata": {
    "colab": {
     "base_uri": "https://localhost:8080/"
    },
    "id": "NYz4KTgE_eLS",
    "outputId": "0132a7eb-60fe-4e6d-aa2b-2a38bf467816"
   },
   "outputs": [
    {
     "data": {
      "text/plain": [
       "2"
      ]
     },
     "execution_count": 124,
     "metadata": {
      "tags": []
     },
     "output_type": "execute_result"
    }
   ],
   "source": [
    "a.ndim"
   ]
  },
  {
   "cell_type": "code",
   "execution_count": 125,
   "metadata": {
    "colab": {
     "base_uri": "https://localhost:8080/"
    },
    "id": "k-8gN3Ou_gSh",
    "outputId": "cf606c23-88b8-4b8c-fd24-0c11e11227aa"
   },
   "outputs": [
    {
     "name": "stdout",
     "output_type": "stream",
     "text": [
      "<class 'numpy.dtype'>\n",
      "int32\n"
     ]
    }
   ],
   "source": [
    "print(type(a.dtype))\n",
    "print(a.dtype)"
   ]
  },
  {
   "cell_type": "code",
   "execution_count": 126,
   "metadata": {
    "colab": {
     "base_uri": "https://localhost:8080/"
    },
    "id": "hLYJHt47_2Ss",
    "outputId": "fb075780-0580-4366-ca5f-e0773fc2e69a"
   },
   "outputs": [
    {
     "data": {
      "text/plain": [
       "4"
      ]
     },
     "execution_count": 126,
     "metadata": {
      "tags": []
     },
     "output_type": "execute_result"
    }
   ],
   "source": [
    "a.itemsize"
   ]
  },
  {
   "cell_type": "code",
   "execution_count": 127,
   "metadata": {
    "colab": {
     "base_uri": "https://localhost:8080/"
    },
    "id": "tL1j0iOz_5Ak",
    "outputId": "5d9d31e1-8cc2-4fd8-8bbb-3fe1dd7e892b"
   },
   "outputs": [
    {
     "data": {
      "text/plain": [
       "40"
      ]
     },
     "execution_count": 127,
     "metadata": {
      "tags": []
     },
     "output_type": "execute_result"
    }
   ],
   "source": [
    "# get total size of array\n",
    "a.nbytes"
   ]
  },
  {
   "cell_type": "code",
   "execution_count": 128,
   "metadata": {
    "colab": {
     "base_uri": "https://localhost:8080/"
    },
    "id": "PUk2itdr_5Df",
    "outputId": "91d327ae-55c0-424e-fa0c-1275b8dfc2c8"
   },
   "outputs": [
    {
     "data": {
      "text/plain": [
       "10"
      ]
     },
     "execution_count": 128,
     "metadata": {
      "tags": []
     },
     "output_type": "execute_result"
    }
   ],
   "source": [
    "# get number of elements array\n",
    "a.size"
   ]
  },
  {
   "cell_type": "code",
   "execution_count": 129,
   "metadata": {
    "colab": {
     "base_uri": "https://localhost:8080/"
    },
    "id": "HvVIVUIf_5GJ",
    "outputId": "52c7d7d1-8588-48e2-f648-647239c440d1"
   },
   "outputs": [
    {
     "data": {
      "text/plain": [
       "array([[[1.9948363e-316, 0.0000000e+000, 0.0000000e+000, 0.0000000e+000],\n",
       "        [0.0000000e+000, 0.0000000e+000, 0.0000000e+000, 0.0000000e+000]],\n",
       "\n",
       "       [[0.0000000e+000, 0.0000000e+000, 0.0000000e+000, 0.0000000e+000],\n",
       "        [0.0000000e+000, 0.0000000e+000, 0.0000000e+000, 0.0000000e+000]],\n",
       "\n",
       "       [[0.0000000e+000, 0.0000000e+000, 0.0000000e+000, 0.0000000e+000],\n",
       "        [0.0000000e+000, 0.0000000e+000, 0.0000000e+000, 0.0000000e+000]]])"
      ]
     },
     "execution_count": 129,
     "metadata": {
      "tags": []
     },
     "output_type": "execute_result"
    }
   ],
   "source": [
    "# Return a new array of given shape and type, without initializing entries.\n",
    "c = np.empty((3, 2, 4), dtype=np.float64)\n",
    "c"
   ]
  },
  {
   "cell_type": "code",
   "execution_count": 130,
   "metadata": {
    "colab": {
     "base_uri": "https://localhost:8080/"
    },
    "id": "34IwcoxGClVt",
    "outputId": "6d0d9404-c882-46a4-b419-0dc3aafadb26"
   },
   "outputs": [
    {
     "data": {
      "text/plain": [
       "array([[         0, 1076428800,          0, 1076690944,          0],\n",
       "       [1076920320,          0, 1077051392,          0, 1077182464]],\n",
       "      dtype=int32)"
      ]
     },
     "execution_count": 130,
     "metadata": {
      "tags": []
     },
     "output_type": "execute_result"
    }
   ],
   "source": [
    "# Return a new array with the same shape and type as a given array. Array of uninitialized (arbitrary) data with the same shape and type as prototype.\n",
    "c1 = np.empty_like(a)\n",
    "c1"
   ]
  },
  {
   "cell_type": "code",
   "execution_count": 131,
   "metadata": {
    "colab": {
     "base_uri": "https://localhost:8080/"
    },
    "id": "RE-5wP-G_5Ii",
    "outputId": "ecb8595e-244a-44a1-eff7-151c03dcd8c9"
   },
   "outputs": [
    {
     "data": {
      "text/plain": [
       "array([[[0, 0, 0, 0],\n",
       "        [0, 0, 0, 0],\n",
       "        [0, 0, 0, 0]],\n",
       "\n",
       "       [[0, 0, 0, 0],\n",
       "        [0, 0, 0, 0],\n",
       "        [0, 0, 0, 0]]], dtype=int8)"
      ]
     },
     "execution_count": 131,
     "metadata": {
      "tags": []
     },
     "output_type": "execute_result"
    }
   ],
   "source": [
    "# Return a new array of given shape and type, filled with zeros.\n",
    "d = np.zeros((2, 3, 4), dtype=np.int8)\n",
    "d"
   ]
  },
  {
   "cell_type": "code",
   "execution_count": 132,
   "metadata": {
    "colab": {
     "base_uri": "https://localhost:8080/"
    },
    "id": "eX-hjXcsDToE",
    "outputId": "308f6187-08f3-421d-b5a5-ef6644148061"
   },
   "outputs": [
    {
     "data": {
      "text/plain": [
       "array([[0, 0, 0, 0, 0],\n",
       "       [0, 0, 0, 0, 0]], dtype=int32)"
      ]
     },
     "execution_count": 132,
     "metadata": {
      "tags": []
     },
     "output_type": "execute_result"
    }
   ],
   "source": [
    "d1 = np.zeros_like(a)\n",
    "d1"
   ]
  },
  {
   "cell_type": "code",
   "execution_count": 133,
   "metadata": {
    "colab": {
     "base_uri": "https://localhost:8080/"
    },
    "id": "kJQvz7Z__5LN",
    "outputId": "a93d0845-d336-4c72-989c-56b809d9da1a"
   },
   "outputs": [
    {
     "data": {
      "text/plain": [
       "array([[[[1, 1, 1, 1, 1],\n",
       "         [1, 1, 1, 1, 1]],\n",
       "\n",
       "        [[1, 1, 1, 1, 1],\n",
       "         [1, 1, 1, 1, 1]]],\n",
       "\n",
       "\n",
       "       [[[1, 1, 1, 1, 1],\n",
       "         [1, 1, 1, 1, 1]],\n",
       "\n",
       "        [[1, 1, 1, 1, 1],\n",
       "         [1, 1, 1, 1, 1]]]])"
      ]
     },
     "execution_count": 133,
     "metadata": {
      "tags": []
     },
     "output_type": "execute_result"
    }
   ],
   "source": [
    "# Return a new array of given shape and type, filled with ones.\n",
    "e = np.ones((2, 2, 2, 5), dtype=np.int64)\n",
    "e"
   ]
  },
  {
   "cell_type": "code",
   "execution_count": 134,
   "metadata": {
    "colab": {
     "base_uri": "https://localhost:8080/"
    },
    "id": "uMOyr_L0DbJc",
    "outputId": "d6371e71-9a7a-42c2-fb25-c18bb457bd21"
   },
   "outputs": [
    {
     "data": {
      "text/plain": [
       "array([[1, 1, 1, 1, 1],\n",
       "       [1, 1, 1, 1, 1]], dtype=int32)"
      ]
     },
     "execution_count": 134,
     "metadata": {
      "tags": []
     },
     "output_type": "execute_result"
    }
   ],
   "source": [
    "e1 = np.ones_like(a)\n",
    "e1"
   ]
  },
  {
   "cell_type": "code",
   "execution_count": 135,
   "metadata": {
    "colab": {
     "base_uri": "https://localhost:8080/"
    },
    "id": "UyRspvAl_5Nn",
    "outputId": "c832b66c-ee62-4db9-f3bc-12b465363615"
   },
   "outputs": [
    {
     "data": {
      "text/plain": [
       "array([[42., 42.],\n",
       "       [42., 42.]], dtype=float32)"
      ]
     },
     "execution_count": 135,
     "metadata": {
      "tags": []
     },
     "output_type": "execute_result"
    }
   ],
   "source": [
    "# Return a new array of given shape and type, filled with fill_value.\n",
    "f = np.full((2,2), 42, dtype=np.float32)\n",
    "f"
   ]
  },
  {
   "cell_type": "code",
   "execution_count": 136,
   "metadata": {
    "colab": {
     "base_uri": "https://localhost:8080/"
    },
    "id": "EDykTJvAIqPK",
    "outputId": "6c590b38-8e02-40a1-9566-dca40a4da940"
   },
   "outputs": [
    {
     "data": {
      "text/plain": [
       "array([[12, 12, 12, 12, 12],\n",
       "       [12, 12, 12, 12, 12]], dtype=int32)"
      ]
     },
     "execution_count": 136,
     "metadata": {
      "tags": []
     },
     "output_type": "execute_result"
    }
   ],
   "source": [
    "f1 = np.full_like(a, 12.8)\n",
    "f1"
   ]
  },
  {
   "cell_type": "code",
   "execution_count": 137,
   "metadata": {
    "colab": {
     "base_uri": "https://localhost:8080/"
    },
    "id": "2Mf_ErRhrXV8",
    "outputId": "cceeb462-71a1-40d2-c5a4-588d90009f54"
   },
   "outputs": [
    {
     "data": {
      "text/plain": [
       "array([[1., 0., 0., 0., 0., 0., 0., 0., 0., 0.],\n",
       "       [0., 1., 0., 0., 0., 0., 0., 0., 0., 0.],\n",
       "       [0., 0., 1., 0., 0., 0., 0., 0., 0., 0.],\n",
       "       [0., 0., 0., 1., 0., 0., 0., 0., 0., 0.],\n",
       "       [0., 0., 0., 0., 1., 0., 0., 0., 0., 0.],\n",
       "       [0., 0., 0., 0., 0., 1., 0., 0., 0., 0.],\n",
       "       [0., 0., 0., 0., 0., 0., 1., 0., 0., 0.],\n",
       "       [0., 0., 0., 0., 0., 0., 0., 1., 0., 0.],\n",
       "       [0., 0., 0., 0., 0., 0., 0., 0., 1., 0.],\n",
       "       [0., 0., 0., 0., 0., 0., 0., 0., 0., 1.]], dtype=float32)"
      ]
     },
     "execution_count": 137,
     "metadata": {
      "tags": []
     },
     "output_type": "execute_result"
    }
   ],
   "source": [
    "# Return the identity array. The identity array is a square array with ones on the main diagonal.\n",
    "g = np.identity(10, dtype=np.float32)\n",
    "g"
   ]
  },
  {
   "cell_type": "code",
   "execution_count": 138,
   "metadata": {
    "colab": {
     "base_uri": "https://localhost:8080/"
    },
    "id": "BSEWknk5k62v",
    "outputId": "43264cc4-7790-4d17-c79e-1ce9e1513f8f"
   },
   "outputs": [
    {
     "data": {
      "text/plain": [
       "array([ 2,  3,  4,  5,  6,  7,  8,  9, 10], dtype=int16)"
      ]
     },
     "execution_count": 138,
     "metadata": {
      "tags": []
     },
     "output_type": "execute_result"
    }
   ],
   "source": [
    "# Return evenly spaced numbers over a specified interval. Returns num evenly spaced samples, calculated over the interval [start, stop]. The endpoint of the interval can optionally be excluded.\n",
    "h = np.linspace(start=2, stop=10, num=9, endpoint=True, dtype=np.int16)\n",
    "h"
   ]
  },
  {
   "cell_type": "code",
   "execution_count": 139,
   "metadata": {
    "colab": {
     "base_uri": "https://localhost:8080/"
    },
    "id": "ZHCQMXjX6rGg",
    "outputId": "7ab15263-3722-43b7-883f-5897ac265ee1"
   },
   "outputs": [
    {
     "data": {
      "text/plain": [
       "array([12.5, 14.5, 16.5, 18.5, 20.5])"
      ]
     },
     "execution_count": 139,
     "metadata": {
      "tags": []
     },
     "output_type": "execute_result"
    }
   ],
   "source": [
    "# Return evenly spaced values within a given interval. Values are generated within the half-open interval [start, stop) \n",
    "i = np.arange(start=12.5, stop=22, step=2, dtype=np.float64)\n",
    "i"
   ]
  },
  {
   "cell_type": "markdown",
   "metadata": {
    "id": "KnVXmKf7D4mn"
   },
   "source": [
    "## Accessing/Changing specific elements, rows, columns, etc"
   ]
  },
  {
   "cell_type": "code",
   "execution_count": 140,
   "metadata": {
    "colab": {
     "base_uri": "https://localhost:8080/"
    },
    "id": "ctWalIea_5P_",
    "outputId": "3185c29b-9446-41a6-8312-273641d0ec8a"
   },
   "outputs": [
    {
     "name": "stdout",
     "output_type": "stream",
     "text": [
      "[[[ 1.  2.  3.  4.  5.]\n",
      "  [ 8.  9. 10. 11. 12.]]\n",
      "\n",
      " [[ 4.  5.  6.  7.  8.]\n",
      "  [ 1.  2.  3.  4.  5.]]]\n",
      "(2, 2, 5)\n"
     ]
    }
   ],
   "source": [
    "arr = np.array([[[1,2,3,4,5], [8,9,10,11,12]], [[4,5,6,7,8], [1,2,3,4,5]]], dtype=np.float32)\n",
    "print(arr)\n",
    "print(arr.shape)"
   ]
  },
  {
   "cell_type": "code",
   "execution_count": 141,
   "metadata": {
    "colab": {
     "base_uri": "https://localhost:8080/"
    },
    "id": "9nvFetaD_5SU",
    "outputId": "e10979d8-5c81-4517-8d44-b530af8be779"
   },
   "outputs": [
    {
     "data": {
      "text/plain": [
       "11.0"
      ]
     },
     "execution_count": 141,
     "metadata": {
      "tags": []
     },
     "output_type": "execute_result"
    }
   ],
   "source": [
    "# get element in given position\n",
    "arr[0, 1, 3]"
   ]
  },
  {
   "cell_type": "code",
   "execution_count": 142,
   "metadata": {
    "colab": {
     "base_uri": "https://localhost:8080/"
    },
    "id": "S00hZNgz_5Uo",
    "outputId": "607f6761-0583-4721-d834-f44f5136e8e5"
   },
   "outputs": [
    {
     "data": {
      "text/plain": [
       "array([1., 2., 3., 4., 5.], dtype=float32)"
      ]
     },
     "execution_count": 142,
     "metadata": {
      "tags": []
     },
     "output_type": "execute_result"
    }
   ],
   "source": [
    "# get specific row\n",
    "arr[1, 1]\n",
    "arr[1,1, :]"
   ]
  },
  {
   "cell_type": "code",
   "execution_count": 143,
   "metadata": {
    "colab": {
     "base_uri": "https://localhost:8080/"
    },
    "id": "S3lG7GKW_5Xe",
    "outputId": "bde90379-4011-42d8-c9e9-07510c56d198"
   },
   "outputs": [
    {
     "data": {
      "text/plain": [
       "array([[ 5., 12.],\n",
       "       [ 8.,  5.]], dtype=float32)"
      ]
     },
     "execution_count": 143,
     "metadata": {
      "tags": []
     },
     "output_type": "execute_result"
    }
   ],
   "source": [
    "# slicing\n",
    "arr[:, :, 4]"
   ]
  },
  {
   "cell_type": "code",
   "execution_count": 144,
   "metadata": {
    "colab": {
     "base_uri": "https://localhost:8080/"
    },
    "id": "_HYh9Jc5Fe92",
    "outputId": "bbde9410-ed1c-46bb-a6f1-214738025e96"
   },
   "outputs": [
    {
     "data": {
      "text/plain": [
       "array([[[ 2.,  4.],\n",
       "        [ 9., 11.]],\n",
       "\n",
       "       [[ 5.,  7.],\n",
       "        [ 2.,  4.]]], dtype=float32)"
      ]
     },
     "execution_count": 144,
     "metadata": {
      "tags": []
     },
     "output_type": "execute_result"
    }
   ],
   "source": [
    "# [startindex:endindex:stepsize]\n",
    "arr[:, :, 1::2]"
   ]
  },
  {
   "cell_type": "code",
   "execution_count": 145,
   "metadata": {
    "colab": {
     "base_uri": "https://localhost:8080/"
    },
    "id": "dvdtyjPzF0hl",
    "outputId": "1823aef5-9247-4819-903d-e2114cd10504"
   },
   "outputs": [
    {
     "data": {
      "text/plain": [
       "array([[ 8.,  9., 10., 11., 12.],\n",
       "       [ 1.,  2.,  3.,  4.,  5.]], dtype=float32)"
      ]
     },
     "execution_count": 145,
     "metadata": {
      "tags": []
     },
     "output_type": "execute_result"
    }
   ],
   "source": [
    "arr[:, 1]\n",
    "arr[:, 1, :]"
   ]
  },
  {
   "cell_type": "code",
   "execution_count": 146,
   "metadata": {
    "colab": {
     "base_uri": "https://localhost:8080/"
    },
    "id": "2R7CJbcoGLwN",
    "outputId": "b289ef11-2fda-41ef-a737-a7fb03bb37ef"
   },
   "outputs": [
    {
     "data": {
      "text/plain": [
       "array([[[1. , 2. , 3. , 4. , 5. ],\n",
       "        [5.5, 5.5, 5.5, 5.5, 5.5]],\n",
       "\n",
       "       [[4. , 5. , 6. , 7. , 8. ],\n",
       "        [1. , 2. , 3. , 4. , 5. ]]], dtype=float32)"
      ]
     },
     "execution_count": 146,
     "metadata": {
      "tags": []
     },
     "output_type": "execute_result"
    }
   ],
   "source": [
    "# replace/modify an element\n",
    "arr[0, 1, :] = 5.5\n",
    "arr"
   ]
  },
  {
   "cell_type": "code",
   "execution_count": 147,
   "metadata": {
    "colab": {
     "base_uri": "https://localhost:8080/"
    },
    "id": "8Lsh_HhkGLxH",
    "outputId": "de870fc7-7d40-4dcb-eaee-aeea8fcb3982"
   },
   "outputs": [
    {
     "data": {
      "text/plain": [
       "array([[[75. ,  2. ,  3. ,  4. ,  5. ],\n",
       "        [ 5.5,  5.5,  5.5,  5.5,  5.5]],\n",
       "\n",
       "       [[85. ,  5. ,  6. ,  7. ,  8. ],\n",
       "        [ 1. ,  2. ,  3. ,  4. ,  5. ]]], dtype=float32)"
      ]
     },
     "execution_count": 147,
     "metadata": {
      "tags": []
     },
     "output_type": "execute_result"
    }
   ],
   "source": [
    "# replace 2 elements\n",
    "arr[:, 0, 0] = [75, 85]\n",
    "arr"
   ]
  },
  {
   "cell_type": "code",
   "execution_count": 148,
   "metadata": {
    "colab": {
     "base_uri": "https://localhost:8080/"
    },
    "id": "QKizv5hWG_TE",
    "outputId": "6006825c-4b18-4da7-fc65-71ed9fceec0c"
   },
   "outputs": [
    {
     "data": {
      "text/plain": [
       "array([[[11. , 11. , 11. , 11. , 11. ],\n",
       "        [ 5.5,  5.5,  5.5,  5.5,  5.5]],\n",
       "\n",
       "       [[85. ,  5. ,  6. ,  7. ,  8. ],\n",
       "        [ 1. ,  2. ,  3. ,  4. ,  5. ]]], dtype=float32)"
      ]
     },
     "execution_count": 148,
     "metadata": {
      "tags": []
     },
     "output_type": "execute_result"
    }
   ],
   "source": [
    "# replace a row\n",
    "arr[0, 0, :] = [11, 11, 11, 11, 11]\n",
    "arr"
   ]
  },
  {
   "cell_type": "code",
   "execution_count": 149,
   "metadata": {
    "colab": {
     "base_uri": "https://localhost:8080/"
    },
    "id": "xRu6YnihHXnM",
    "outputId": "d9fe07ff-daa8-4c5c-e6a2-5f91868229da"
   },
   "outputs": [
    {
     "data": {
      "text/plain": [
       "array([[[11., 11., 11., 11., 11.],\n",
       "        [ 9.,  9.,  9.,  9.,  9.]],\n",
       "\n",
       "       [[85.,  5.,  6.,  7.,  8.],\n",
       "        [ 4.,  4.,  4.,  4.,  4.]]], dtype=float32)"
      ]
     },
     "execution_count": 149,
     "metadata": {
      "tags": []
     },
     "output_type": "execute_result"
    }
   ],
   "source": [
    "# replace 2 rows\n",
    "arr[:,1,:] = [[9,9,9,9,9],[4,4,4,4,4]]\n",
    "arr"
   ]
  },
  {
   "cell_type": "markdown",
   "metadata": {
    "id": "nRDXFvZJ5eEk"
   },
   "source": [
    "## Where"
   ]
  },
  {
   "cell_type": "code",
   "execution_count": 150,
   "metadata": {
    "colab": {
     "base_uri": "https://localhost:8080/"
    },
    "id": "IRKv3ijU5eNV",
    "outputId": "a86658e3-4d26-46f0-e297-c409bf9e5f03"
   },
   "outputs": [
    {
     "name": "stdout",
     "output_type": "stream",
     "text": [
      "[[-0.88351501 -0.26117721 -0.80661494]\n",
      " [ 0.53560437  0.64550501  1.13456921]\n",
      " [-0.09412003  1.53307569  0.50595754]]\n",
      "[[-1.76166556  1.58996059  0.70586326]\n",
      " [ 0.02735162 -0.00363765  1.82395612]\n",
      " [ 0.30866773 -0.47334936  0.03078749]]\n"
     ]
    }
   ],
   "source": [
    "w1 = np.random.randn(3,3)\n",
    "w2 = np.random.randn(3,3)\n",
    "print(w1)\n",
    "print(w2)"
   ]
  },
  {
   "cell_type": "code",
   "execution_count": 151,
   "metadata": {
    "colab": {
     "base_uri": "https://localhost:8080/"
    },
    "id": "NMeHZPcx563o",
    "outputId": "239e7b0d-c7d5-4b86-c1eb-7ffdc680ef2b"
   },
   "outputs": [
    {
     "data": {
      "text/plain": [
       "array([[False,  True,  True],\n",
       "       [False, False,  True],\n",
       "       [ True, False, False]])"
      ]
     },
     "execution_count": 151,
     "metadata": {
      "tags": []
     },
     "output_type": "execute_result"
    }
   ],
   "source": [
    "c = w1 < w2\n",
    "c"
   ]
  },
  {
   "cell_type": "code",
   "execution_count": 152,
   "metadata": {
    "colab": {
     "base_uri": "https://localhost:8080/"
    },
    "id": "RLUPBW5L6EeI",
    "outputId": "8967179f-e83f-45af-e0f8-ac69c7e529db"
   },
   "outputs": [
    {
     "data": {
      "text/plain": [
       "array([[-1.76166556, -0.26117721, -0.80661494],\n",
       "       [ 0.02735162, -0.00363765,  1.13456921],\n",
       "       [-0.09412003, -0.47334936,  0.03078749]])"
      ]
     },
     "execution_count": 152,
     "metadata": {
      "tags": []
     },
     "output_type": "execute_result"
    }
   ],
   "source": [
    "# Return elements chosen from x or y depending on condition.\n",
    "np.where(c, w1, w2)"
   ]
  },
  {
   "cell_type": "code",
   "execution_count": 153,
   "metadata": {
    "colab": {
     "base_uri": "https://localhost:8080/"
    },
    "id": "4bXqE3Op6ac5",
    "outputId": "31200b1a-3220-484e-b328-d70a7fc78d54"
   },
   "outputs": [
    {
     "data": {
      "text/plain": [
       "array([[        nan, -0.26117721, -0.80661494],\n",
       "       [        nan,         nan,  1.13456921],\n",
       "       [-0.09412003,         nan,         nan]])"
      ]
     },
     "execution_count": 153,
     "metadata": {
      "tags": []
     },
     "output_type": "execute_result"
    }
   ],
   "source": [
    "np.where(c, w1, np.nan)"
   ]
  },
  {
   "cell_type": "markdown",
   "metadata": {
    "id": "EJSVecYzI92J"
   },
   "source": [
    "## Initialize random arrays"
   ]
  },
  {
   "cell_type": "code",
   "execution_count": 154,
   "metadata": {
    "colab": {
     "base_uri": "https://localhost:8080/"
    },
    "id": "OJOVpKJ0HXqR",
    "outputId": "dec1ec20-6beb-456d-e301-dba695fffb1f"
   },
   "outputs": [
    {
     "data": {
      "text/plain": [
       "array([[[[0.85972021, 0.14503769, 0.59207671, 0.85893986],\n",
       "         [0.03927955, 0.45276211, 0.37877428, 0.48265808]],\n",
       "\n",
       "        [[0.80838425, 0.65241938, 0.58784771, 0.93290751],\n",
       "         [0.40309753, 0.08785603, 0.81650875, 0.32993529]]]])"
      ]
     },
     "execution_count": 154,
     "metadata": {
      "tags": []
     },
     "output_type": "execute_result"
    }
   ],
   "source": [
    "# Create an array of the given shape and populate it with random samples from a uniform distribution over [0, 1).\n",
    "rd = np.random.rand(1,2,2,4)\n",
    "rd"
   ]
  },
  {
   "cell_type": "code",
   "execution_count": 155,
   "metadata": {
    "colab": {
     "base_uri": "https://localhost:8080/"
    },
    "id": "9r1tIXUrnw-s",
    "outputId": "c0cd5a3e-6606-4975-fed5-80945d19f89b"
   },
   "outputs": [
    {
     "data": {
      "text/plain": [
       "array([[[[0.22484716, 0.40782271, 0.49268266, 0.79234478],\n",
       "         [0.41608493, 0.77474181, 0.41685221, 0.49992129]],\n",
       "\n",
       "        [[0.84033205, 0.71951319, 0.23043266, 0.13336904],\n",
       "         [0.92242646, 0.81223532, 0.7611376 , 0.7109278 ]]]])"
      ]
     },
     "execution_count": 155,
     "metadata": {
      "tags": []
     },
     "output_type": "execute_result"
    }
   ],
   "source": [
    "# Return random floats in the half-open interval [0.0, 1.0).\n",
    "rd = np.random.random_sample(size=(1,2,2,4))\n",
    "rd"
   ]
  },
  {
   "cell_type": "code",
   "execution_count": 156,
   "metadata": {
    "colab": {
     "base_uri": "https://localhost:8080/"
    },
    "id": "2JccJZLyHXsr",
    "outputId": "9bc3bfd1-c413-4ed6-e8a8-524c25fabda4"
   },
   "outputs": [
    {
     "data": {
      "text/plain": [
       "array([[[[-0.97702332,  0.2650154 ,  0.37316737,  0.22926563],\n",
       "         [ 0.31621186, -0.76473889,  0.94858736,  0.76903978]],\n",
       "\n",
       "        [[ 1.27882872, -0.35062435,  0.22364077,  0.82096681],\n",
       "         [-1.34667634,  0.99956364,  0.26419185,  0.28031868]]]])"
      ]
     },
     "execution_count": 156,
     "metadata": {
      "tags": []
     },
     "output_type": "execute_result"
    }
   ],
   "source": [
    "# Return a sample (or samples) from the “standard normal” distribution.\n",
    "rd = np.random.randn(1,2,2,4)\n",
    "rd"
   ]
  },
  {
   "cell_type": "code",
   "execution_count": 157,
   "metadata": {
    "colab": {
     "base_uri": "https://localhost:8080/"
    },
    "id": "pvH9wgspHXvX",
    "outputId": "40458fe1-c60b-4118-da58-a79bf93608db"
   },
   "outputs": [
    {
     "data": {
      "text/plain": [
       "array([[[[44, 47, 49, 52],\n",
       "         [45, 50, 33, 15]],\n",
       "\n",
       "        [[51, 29, 16, 24],\n",
       "         [40, 57, 23, 37]]]])"
      ]
     },
     "execution_count": 157,
     "metadata": {
      "tags": []
     },
     "output_type": "execute_result"
    }
   ],
   "source": [
    "# Return random integers from low (inclusive) to high (exclusive).\n",
    "rd = np.random.randint(low=12, high=58, size=(1,2,2,4))\n",
    "rd"
   ]
  },
  {
   "cell_type": "code",
   "execution_count": 158,
   "metadata": {
    "colab": {
     "base_uri": "https://localhost:8080/"
    },
    "id": "Uswau9FgHXyB",
    "outputId": "013297c7-aafa-454a-d2db-3bcddc623acc"
   },
   "outputs": [
    {
     "data": {
      "text/plain": [
       "array([[[[-2.75405553, -1.13960914, -2.12831564, -1.22896764],\n",
       "         [ 0.47701662,  2.97336337,  2.44556508, -2.83355057]],\n",
       "\n",
       "        [[ 1.70827687, -3.04319494,  2.46066268,  1.97445572],\n",
       "         [ 0.00505973,  2.04869289, -1.62183931,  2.97648506]]]])"
      ]
     },
     "execution_count": 158,
     "metadata": {
      "tags": []
     },
     "output_type": "execute_result"
    }
   ],
   "source": [
    "# Draw samples from a von Mises distribution.\n",
    "# All kinds of distributions are available\n",
    "rd = np.random.vonmises(mu=15, kappa=1, size=(1,2,2,4))\n",
    "rd"
   ]
  },
  {
   "cell_type": "code",
   "execution_count": 159,
   "metadata": {
    "colab": {
     "base_uri": "https://localhost:8080/"
    },
    "id": "Eq-hRz1hHX00",
    "outputId": "0587b4ab-be41-42b7-cb9a-48dc02852aff"
   },
   "outputs": [
    {
     "name": "stdout",
     "output_type": "stream",
     "text": [
      "beta\n",
      "binomial\n",
      "bytes\n",
      "chisquare\n",
      "choice\n",
      "dirichlet\n",
      "exponential\n",
      "f\n",
      "gamma\n",
      "geometric\n",
      "gumbel\n",
      "hypergeometric\n",
      "laplace\n",
      "logistic\n",
      "lognormal\n",
      "logseries\n",
      "mtrand\n",
      "multinomial\n",
      "normal\n",
      "pareto\n",
      "permutation\n",
      "poisson\n",
      "power\n",
      "rand\n",
      "randint\n",
      "randn\n",
      "random\n",
      "ranf\n",
      "rayleigh\n",
      "sample\n",
      "seed\n",
      "shuffle\n",
      "test\n",
      "triangular\n",
      "uniform\n",
      "vonmises\n",
      "wald\n",
      "weibull\n",
      "zipf\n"
     ]
    }
   ],
   "source": [
    "print(*list(filter(lambda x: '_' not in x and x.islower(), dir(np.random))), sep='\\n')"
   ]
  },
  {
   "cell_type": "markdown",
   "metadata": {
    "id": "eEbGxZLVrr--"
   },
   "source": [
    "## Repeat/Tile an array"
   ]
  },
  {
   "cell_type": "code",
   "execution_count": 160,
   "metadata": {
    "colab": {
     "base_uri": "https://localhost:8080/"
    },
    "id": "PHcALLMMskW2",
    "outputId": "093e0af9-96db-417a-c2df-51680398183a"
   },
   "outputs": [
    {
     "data": {
      "text/plain": [
       "array([10, 10, 10, 10, 10])"
      ]
     },
     "execution_count": 160,
     "metadata": {
      "tags": []
     },
     "output_type": "execute_result"
    }
   ],
   "source": [
    "rep = np.repeat(a=10, repeats=5, axis=None)\n",
    "rep"
   ]
  },
  {
   "cell_type": "code",
   "execution_count": 161,
   "metadata": {
    "colab": {
     "base_uri": "https://localhost:8080/"
    },
    "id": "Tlm7WwfpHX6H",
    "outputId": "03d1ba31-2ba4-4077-a1f5-6ba78ccffa94"
   },
   "outputs": [
    {
     "data": {
      "text/plain": [
       "array([[1, 2, 3],\n",
       "       [1, 2, 3],\n",
       "       [1, 2, 3],\n",
       "       [4, 5, 6],\n",
       "       [4, 5, 6],\n",
       "       [4, 5, 6]])"
      ]
     },
     "execution_count": 161,
     "metadata": {
      "tags": []
     },
     "output_type": "execute_result"
    }
   ],
   "source": [
    "rep = np.array([[1,2,3], [4,5,6]])\n",
    "rep = np.repeat(rep, 3, axis=0)\n",
    "rep"
   ]
  },
  {
   "cell_type": "code",
   "execution_count": 162,
   "metadata": {
    "colab": {
     "base_uri": "https://localhost:8080/"
    },
    "id": "WYa1NSfoHX8_",
    "outputId": "4d54be66-23d9-47d7-da8a-61d79c9c96cf"
   },
   "outputs": [
    {
     "data": {
      "text/plain": [
       "array([[1, 1, 1, 2, 2, 2, 3, 3, 3],\n",
       "       [4, 4, 4, 5, 5, 5, 6, 6, 6]])"
      ]
     },
     "execution_count": 162,
     "metadata": {
      "tags": []
     },
     "output_type": "execute_result"
    }
   ],
   "source": [
    "rep = np.array([[1,2,3], [4,5,6]])\n",
    "rep = np.repeat(rep, 3, axis=1)\n",
    "rep"
   ]
  },
  {
   "cell_type": "code",
   "execution_count": 163,
   "metadata": {
    "colab": {
     "base_uri": "https://localhost:8080/"
    },
    "id": "Gmn_98TWHX_m",
    "outputId": "7043e66b-3718-4bac-89ae-99f55ef5faa3"
   },
   "outputs": [
    {
     "data": {
      "text/plain": [
       "array([[1, 2, 3, 1, 2, 3, 1, 2, 3],\n",
       "       [4, 5, 6, 4, 5, 6, 4, 5, 6]])"
      ]
     },
     "execution_count": 163,
     "metadata": {
      "tags": []
     },
     "output_type": "execute_result"
    }
   ],
   "source": [
    "# Construct an array by repeating A the number of times given by reps.\n",
    "tl = np.array([[1,2,3], [4,5,6]])\n",
    "tl = np.tile(A=tl, reps=(1,3))\n",
    "tl"
   ]
  },
  {
   "cell_type": "code",
   "execution_count": 164,
   "metadata": {
    "colab": {
     "base_uri": "https://localhost:8080/"
    },
    "id": "WSo1Sc8NuoZU",
    "outputId": "1389adb8-44fd-4568-f823-8f2e5bf5b869"
   },
   "outputs": [
    {
     "data": {
      "text/plain": [
       "array([[1, 2, 3],\n",
       "       [4, 5, 6],\n",
       "       [1, 2, 3],\n",
       "       [4, 5, 6],\n",
       "       [1, 2, 3],\n",
       "       [4, 5, 6]])"
      ]
     },
     "execution_count": 164,
     "metadata": {
      "tags": []
     },
     "output_type": "execute_result"
    }
   ],
   "source": [
    "tl = np.array([[1,2,3], [4,5,6]])\n",
    "tl = np.tile(A=tl, reps=(3,1))\n",
    "tl"
   ]
  },
  {
   "cell_type": "markdown",
   "metadata": {
    "id": "sw_oTVcvtJFS"
   },
   "source": [
    "## Copy array"
   ]
  },
  {
   "cell_type": "code",
   "execution_count": 165,
   "metadata": {
    "colab": {
     "base_uri": "https://localhost:8080/"
    },
    "id": "Q3pJj6Z7HYBr",
    "outputId": "3546d54f-bf57-40c6-b193-9ed1d25207aa"
   },
   "outputs": [
    {
     "name": "stdout",
     "output_type": "stream",
     "text": [
      "True\n",
      "False\n"
     ]
    }
   ],
   "source": [
    "a = np.array([[1,2,3], [4,5,6]])\n",
    "nocp = a\n",
    "cp = a.copy()\n",
    "print(nocp is a)\n",
    "print(cp is a)"
   ]
  },
  {
   "cell_type": "markdown",
   "metadata": {
    "id": "qzApoBggttIg"
   },
   "source": [
    "## Mathematics and linear algebra\n",
    "Link to list of functions: https://numpy.org/doc/stable/reference/routines.math.html\n",
    "\n",
    "Most of the functions are element-wise and NOT operate in-place by default.\n",
    "\n",
    "out (function argument): A location into which the result is stored. If provided, it must have a shape that the inputs broadcast to. If not provided or None, a freshly-allocated array is returned. A tuple (possible only as a keyword argument) must have length equal to the number of outputs."
   ]
  },
  {
   "cell_type": "code",
   "execution_count": 166,
   "metadata": {
    "colab": {
     "base_uri": "https://localhost:8080/"
    },
    "id": "Da1r2indttoS",
    "outputId": "1feff63a-2c16-44eb-e2ed-89903aec0ce7"
   },
   "outputs": [
    {
     "name": "stdout",
     "output_type": "stream",
     "text": [
      "[1. 2. 3.]\n",
      "[10. 20. 30.]\n"
     ]
    }
   ],
   "source": [
    "m = np.array([1,2,3], dtype=np.float64)\n",
    "n = np.array([10,20,30], dtype=np.float64)\n",
    "print(m)\n",
    "print(n)"
   ]
  },
  {
   "cell_type": "code",
   "execution_count": 167,
   "metadata": {
    "colab": {
     "base_uri": "https://localhost:8080/"
    },
    "id": "f5fJ4uRlttrS",
    "outputId": "aa292a23-4ce4-4335-b5f6-8ec59920ae88"
   },
   "outputs": [
    {
     "name": "stdout",
     "output_type": "stream",
     "text": [
      "[1. 2. 3.]\n",
      "[3. 4. 5.]\n",
      "False\n"
     ]
    }
   ],
   "source": [
    "m1 = m + 2\n",
    "print(m)\n",
    "print(m1)\n",
    "print(m is m1)"
   ]
  },
  {
   "cell_type": "code",
   "execution_count": 168,
   "metadata": {
    "colab": {
     "base_uri": "https://localhost:8080/"
    },
    "id": "j8zLK8krxU1q",
    "outputId": "d8d95417-cfd6-4bcb-d967-beb82e20db65"
   },
   "outputs": [
    {
     "data": {
      "text/plain": [
       "array([11., 22., 33.])"
      ]
     },
     "execution_count": 168,
     "metadata": {
      "tags": []
     },
     "output_type": "execute_result"
    }
   ],
   "source": [
    "m + n"
   ]
  },
  {
   "cell_type": "code",
   "execution_count": 169,
   "metadata": {
    "colab": {
     "base_uri": "https://localhost:8080/"
    },
    "id": "vHUp4XC8ttsU",
    "outputId": "cae6bf2a-31bb-4407-8f3d-c268be80fca1"
   },
   "outputs": [
    {
     "data": {
      "text/plain": [
       "array([-9., -8., -7.])"
      ]
     },
     "execution_count": 169,
     "metadata": {
      "tags": []
     },
     "output_type": "execute_result"
    }
   ],
   "source": [
    "m - 10"
   ]
  },
  {
   "cell_type": "code",
   "execution_count": 170,
   "metadata": {
    "colab": {
     "base_uri": "https://localhost:8080/"
    },
    "id": "xxmERrSyxo1R",
    "outputId": "74e69a04-bee5-45a3-f481-8036ea9cd9c2"
   },
   "outputs": [
    {
     "data": {
      "text/plain": [
       "array([ -9., -18., -27.])"
      ]
     },
     "execution_count": 170,
     "metadata": {
      "tags": []
     },
     "output_type": "execute_result"
    }
   ],
   "source": [
    "m - n"
   ]
  },
  {
   "cell_type": "code",
   "execution_count": 171,
   "metadata": {
    "colab": {
     "base_uri": "https://localhost:8080/"
    },
    "id": "5ebq-S12ttuC",
    "outputId": "6f66ad54-5076-4123-bd99-c5a68565a22a"
   },
   "outputs": [
    {
     "data": {
      "text/plain": [
       "array([ 4.,  8., 12.])"
      ]
     },
     "execution_count": 171,
     "metadata": {
      "tags": []
     },
     "output_type": "execute_result"
    }
   ],
   "source": [
    "m * 4"
   ]
  },
  {
   "cell_type": "code",
   "execution_count": 172,
   "metadata": {
    "colab": {
     "base_uri": "https://localhost:8080/"
    },
    "id": "4MxsnUCtxsMf",
    "outputId": "103fb7d6-e491-42d3-f6dd-d8480c31c53a"
   },
   "outputs": [
    {
     "data": {
      "text/plain": [
       "array([10., 40., 90.])"
      ]
     },
     "execution_count": 172,
     "metadata": {
      "tags": []
     },
     "output_type": "execute_result"
    }
   ],
   "source": [
    "m * n"
   ]
  },
  {
   "cell_type": "code",
   "execution_count": 173,
   "metadata": {
    "colab": {
     "base_uri": "https://localhost:8080/"
    },
    "id": "1t_4OkD5l2hP",
    "outputId": "bcdfa1bb-b19e-4955-8b11-9501522c1628"
   },
   "outputs": [
    {
     "data": {
      "text/plain": [
       "array([0.33333333, 0.66666667, 1.        ])"
      ]
     },
     "execution_count": 173,
     "metadata": {
      "tags": []
     },
     "output_type": "execute_result"
    }
   ],
   "source": [
    "m / 3"
   ]
  },
  {
   "cell_type": "code",
   "execution_count": 174,
   "metadata": {
    "colab": {
     "base_uri": "https://localhost:8080/"
    },
    "id": "n3M0ua8sxudj",
    "outputId": "5514bc91-bd37-43b1-c9b8-395270116a3c"
   },
   "outputs": [
    {
     "data": {
      "text/plain": [
       "array([0.1, 0.1, 0.1])"
      ]
     },
     "execution_count": 174,
     "metadata": {
      "tags": []
     },
     "output_type": "execute_result"
    }
   ],
   "source": [
    "m / n"
   ]
  },
  {
   "cell_type": "code",
   "execution_count": 175,
   "metadata": {
    "colab": {
     "base_uri": "https://localhost:8080/"
    },
    "id": "k-e7iI8cttvD",
    "outputId": "6e6f016c-a61b-4022-c6f5-c616adec6c4e"
   },
   "outputs": [
    {
     "data": {
      "text/plain": [
       "array([ 1.,  8., 27.])"
      ]
     },
     "execution_count": 175,
     "metadata": {
      "tags": []
     },
     "output_type": "execute_result"
    }
   ],
   "source": [
    "m ** 3"
   ]
  },
  {
   "cell_type": "code",
   "execution_count": 176,
   "metadata": {
    "colab": {
     "base_uri": "https://localhost:8080/"
    },
    "id": "a_KvL4ajxxfM",
    "outputId": "273ea6ae-763b-4f03-c70d-8d2582dddfad"
   },
   "outputs": [
    {
     "data": {
      "text/plain": [
       "array([1.00000000e+00, 1.04857600e+06, 2.05891132e+14])"
      ]
     },
     "execution_count": 176,
     "metadata": {
      "tags": []
     },
     "output_type": "execute_result"
    }
   ],
   "source": [
    "m ** n"
   ]
  },
  {
   "cell_type": "code",
   "execution_count": 177,
   "metadata": {
    "colab": {
     "base_uri": "https://localhost:8080/"
    },
    "id": "F6MFgO5Vpts_",
    "outputId": "151d7b4e-8551-453e-92c8-d69f82cb0546"
   },
   "outputs": [
    {
     "data": {
      "text/plain": [
       "array([ 2.71828183,  7.3890561 , 20.08553692])"
      ]
     },
     "execution_count": 177,
     "metadata": {
      "tags": []
     },
     "output_type": "execute_result"
    }
   ],
   "source": [
    "np.exp(m)"
   ]
  },
  {
   "cell_type": "code",
   "execution_count": 178,
   "metadata": {
    "colab": {
     "base_uri": "https://localhost:8080/"
    },
    "id": "wHzNtX6TttxX",
    "outputId": "a8090ece-8a7e-484c-8a13-1ac1dc8bc351"
   },
   "outputs": [
    {
     "name": "stdout",
     "output_type": "stream",
     "text": [
      "[1. 2. 3.]\n",
      "[ 0.54030231 -0.41614684 -0.9899925 ]\n",
      "False\n"
     ]
    }
   ],
   "source": [
    "m1 = np.cos(m)\n",
    "print(m)\n",
    "print(m1)\n",
    "print(m is m1)"
   ]
  },
  {
   "cell_type": "code",
   "execution_count": 179,
   "metadata": {
    "colab": {
     "base_uri": "https://localhost:8080/"
    },
    "id": "Bs495BeSttzj",
    "outputId": "2176781c-c0fa-4223-c87f-485c9d55e47d"
   },
   "outputs": [
    {
     "name": "stdout",
     "output_type": "stream",
     "text": [
      "[1. 2. 3.]\n",
      "[ 1.17520119  3.62686041 10.01787493]\n",
      "[ 1.17520119  3.62686041 10.01787493]\n",
      "True\n"
     ]
    }
   ],
   "source": [
    "print(m)\n",
    "m1 = np.sinh(m, out=m)\n",
    "print(m)\n",
    "print(m1)\n",
    "print(m1 is m)"
   ]
  },
  {
   "cell_type": "code",
   "execution_count": 180,
   "metadata": {
    "colab": {
     "base_uri": "https://localhost:8080/"
    },
    "id": "QPgb9DoEtotI",
    "outputId": "3eb73840-3d99-4117-bb16-3276cfa76ba6"
   },
   "outputs": [
    {
     "data": {
      "text/plain": [
       "array([[0. , 0. , 2. ],\n",
       "       [0. , 5. , 0.6]])"
      ]
     },
     "execution_count": 180,
     "metadata": {
      "tags": []
     },
     "output_type": "execute_result"
    }
   ],
   "source": [
    "np.mod([[10,20,30], [40,50,60]], [[5,1,4], [8,7.5,3.3]])"
   ]
  },
  {
   "cell_type": "code",
   "execution_count": 181,
   "metadata": {
    "colab": {
     "base_uri": "https://localhost:8080/"
    },
    "id": "-UnEhox8pLYw",
    "outputId": "dc860469-e650-48fa-eb42-2713ce92b3bc"
   },
   "outputs": [
    {
     "data": {
      "text/plain": [
       "array([  0.,   1.,   4.,   8.,  12.,  16.,  20.,  24.,  28.,  32.,  36.,\n",
       "        40.,  44.,  48.,  52.,  56.,  60.,  64.,  68.,  72.,  76.,  80.,\n",
       "        84.,  88.,  92.,  96., 100., 104., 108., 112., 116., 120., 124.,\n",
       "       128., 132., 136., 140., 144., 148., 152., 156., 160., 164., 168.,\n",
       "       172., 176., 180., 184., 188., 192., 196., 200., 204., 208., 212.,\n",
       "       216., 220., 224., 228., 232., 236., 240., 244., 248., 252., 256.,\n",
       "       260., 264., 268., 272., 276., 280., 284., 288., 292., 296., 300.,\n",
       "       304., 308., 312., 316., 320., 324., 328., 332., 336., 340., 344.,\n",
       "       348., 352., 356., 360., 364., 368., 372., 376., 380., 384., 388.,\n",
       "       392., 396., 299., 100.])"
      ]
     },
     "execution_count": 181,
     "metadata": {
      "tags": []
     },
     "output_type": "execute_result"
    }
   ],
   "source": [
    "# Returns the discrete, linear convolution of two one-dimensional sequences.\n",
    "np.convolve(np.linspace(0, 100, 101), [1, 2, 1])"
   ]
  },
  {
   "cell_type": "markdown",
   "metadata": {
    "id": "FwAG7EAJsE5_"
   },
   "source": [
    "### Linear algebra"
   ]
  },
  {
   "cell_type": "code",
   "execution_count": 182,
   "metadata": {
    "colab": {
     "base_uri": "https://localhost:8080/"
    },
    "id": "69_TxZaPpLcQ",
    "outputId": "2324bafd-8f3c-4c0b-8c9b-0efc27de10e9"
   },
   "outputs": [
    {
     "data": {
      "text/plain": [
       "array([[26, 16, 35],\n",
       "       [54, 42, 61],\n",
       "       [28, 20, 34],\n",
       "       [58, 47, 63],\n",
       "       [18, 12, 23]])"
      ]
     },
     "execution_count": 182,
     "metadata": {
      "tags": []
     },
     "output_type": "execute_result"
    }
   ],
   "source": [
    "mat1 = np.random.randint(1, 10, (5,2))\n",
    "mat2 = np.random.randint(1, 10, (2,3))\n",
    "np.matmul(mat1, mat2)"
   ]
  },
  {
   "cell_type": "code",
   "execution_count": 183,
   "metadata": {
    "colab": {
     "base_uri": "https://localhost:8080/"
    },
    "id": "73PtzuRGpLd9",
    "outputId": "d672888a-4fcc-4bee-dea5-c411c487aacf"
   },
   "outputs": [
    {
     "data": {
      "text/plain": [
       "318"
      ]
     },
     "execution_count": 183,
     "metadata": {
      "tags": []
     },
     "output_type": "execute_result"
    }
   ],
   "source": [
    "# Dot product of two array. Different behaviours according to the dimensions of arrays\n",
    "mat1 = np.random.randint(1, 10, (10))\n",
    "mat2 = np.random.randint(1, 10, (10))\n",
    "np.dot(mat1, mat2)"
   ]
  },
  {
   "cell_type": "code",
   "execution_count": 184,
   "metadata": {
    "colab": {
     "base_uri": "https://localhost:8080/"
    },
    "id": "wGO7np9ppLfD",
    "outputId": "a1868e57-9686-4a7b-f9f7-a62a68375d07"
   },
   "outputs": [
    {
     "data": {
      "text/plain": [
       "318"
      ]
     },
     "execution_count": 184,
     "metadata": {
      "tags": []
     },
     "output_type": "execute_result"
    }
   ],
   "source": [
    "# Return the dot product of two vectors.\n",
    "np.vdot(mat1, mat2)"
   ]
  },
  {
   "cell_type": "code",
   "execution_count": 185,
   "metadata": {
    "colab": {
     "base_uri": "https://localhost:8080/"
    },
    "id": "Ggyf6Za1pLhR",
    "outputId": "30e31837-022d-4337-dfb3-3584f8b0011c"
   },
   "outputs": [
    {
     "data": {
      "text/plain": [
       "318"
      ]
     },
     "execution_count": 185,
     "metadata": {
      "tags": []
     },
     "output_type": "execute_result"
    }
   ],
   "source": [
    "# Inner product of two arrays.\n",
    "np.inner(mat1, mat2)"
   ]
  },
  {
   "cell_type": "code",
   "execution_count": 186,
   "metadata": {
    "colab": {
     "base_uri": "https://localhost:8080/"
    },
    "id": "W_8IiEd7pLjN",
    "outputId": "44552182-007a-45ea-c75b-f462a813c83f"
   },
   "outputs": [
    {
     "data": {
      "text/plain": [
       "array([[18, 48, 24, 54, 36, 12, 30, 30, 18, 24],\n",
       "       [27, 72, 36, 81, 54, 18, 45, 45, 27, 36],\n",
       "       [12, 32, 16, 36, 24,  8, 20, 20, 12, 16],\n",
       "       [27, 72, 36, 81, 54, 18, 45, 45, 27, 36],\n",
       "       [27, 72, 36, 81, 54, 18, 45, 45, 27, 36],\n",
       "       [ 9, 24, 12, 27, 18,  6, 15, 15,  9, 12],\n",
       "       [ 3,  8,  4,  9,  6,  2,  5,  5,  3,  4],\n",
       "       [21, 56, 28, 63, 42, 14, 35, 35, 21, 28],\n",
       "       [15, 40, 20, 45, 30, 10, 25, 25, 15, 20],\n",
       "       [12, 32, 16, 36, 24,  8, 20, 20, 12, 16]])"
      ]
     },
     "execution_count": 186,
     "metadata": {
      "tags": []
     },
     "output_type": "execute_result"
    }
   ],
   "source": [
    "# Compute the outer product of two vectors.\n",
    "np.outer(mat1, mat2)"
   ]
  },
  {
   "cell_type": "code",
   "execution_count": 187,
   "metadata": {
    "colab": {
     "base_uri": "https://localhost:8080/"
    },
    "id": "lfokYmExpLlh",
    "outputId": "fa0a7d07-c26f-4eaf-bed4-486ccbe80782"
   },
   "outputs": [
    {
     "data": {
      "text/plain": [
       "-2258.0000000000014"
      ]
     },
     "execution_count": 187,
     "metadata": {
      "tags": []
     },
     "output_type": "execute_result"
    }
   ],
   "source": [
    "# Compute the determinant of an array.\n",
    "mat1 = np.random.randint(1, 10, (5, 5))\n",
    "np.linalg.det(mat1)"
   ]
  },
  {
   "cell_type": "code",
   "execution_count": 188,
   "metadata": {
    "colab": {
     "base_uri": "https://localhost:8080/"
    },
    "id": "NFUJ8Htnus1O",
    "outputId": "27d0d39a-a5c2-4b1a-a5d5-677c3767c4e6"
   },
   "outputs": [
    {
     "name": "stdout",
     "output_type": "stream",
     "text": [
      "(5,)\n",
      "(5, 5)\n"
     ]
    }
   ],
   "source": [
    "# Compute the eigenvalues and right eigenvectors of a square array.\n",
    "v, w = np.linalg.eig(mat1)\n",
    "print(v.shape)\n",
    "print(w.shape)"
   ]
  },
  {
   "cell_type": "code",
   "execution_count": 189,
   "metadata": {
    "colab": {
     "base_uri": "https://localhost:8080/"
    },
    "id": "-zG-y7Jlu3qb",
    "outputId": "11d604b2-f39d-4258-9cdf-15dfc5212145"
   },
   "outputs": [
    {
     "data": {
      "text/plain": [
       "array([[ 0.01594331,  0.10628875, -0.15057573,  0.04605846, -0.03985828],\n",
       "       [-0.15899026,  0.10673162,  0.0571302 , -0.0704163 ,  0.14747564],\n",
       "       [ 0.22232064,  0.14880425, -0.21080602, -0.13551816, -0.05580159],\n",
       "       [ 0.13906112, -0.73959256,  0.13108946,  0.51284322,  0.15234721],\n",
       "       [ 0.04428698, -0.0380868 ,  0.13728964,  0.01682905, -0.11071745]])"
      ]
     },
     "execution_count": 189,
     "metadata": {
      "tags": []
     },
     "output_type": "execute_result"
    }
   ],
   "source": [
    "np.linalg.inv(mat1)"
   ]
  },
  {
   "cell_type": "code",
   "execution_count": 190,
   "metadata": {
    "colab": {
     "base_uri": "https://localhost:8080/"
    },
    "id": "gO3Pw08uu3tF",
    "outputId": "94a4708b-c163-4c35-a235-be4580cfbe69"
   },
   "outputs": [
    {
     "name": "stdout",
     "output_type": "stream",
     "text": [
      "(5, 5)\n",
      "(5,)\n",
      "(5, 5)\n"
     ]
    }
   ],
   "source": [
    "# Singular Value Decomposition.\n",
    "u, s, vh = np.linalg.svd(mat1)\n",
    "print(u.shape)\n",
    "print(s.shape)\n",
    "print(vh.shape)"
   ]
  },
  {
   "cell_type": "code",
   "execution_count": 191,
   "metadata": {
    "colab": {
     "base_uri": "https://localhost:8080/"
    },
    "id": "K5G1PcK8u3vt",
    "outputId": "3905ad0e-dd06-440a-b34d-8a2db2daf1a1"
   },
   "outputs": [
    {
     "data": {
      "text/plain": [
       "5"
      ]
     },
     "execution_count": 191,
     "metadata": {
      "tags": []
     },
     "output_type": "execute_result"
    }
   ],
   "source": [
    "np.linalg.matrix_rank(mat1)"
   ]
  },
  {
   "cell_type": "code",
   "execution_count": 192,
   "metadata": {
    "colab": {
     "base_uri": "https://localhost:8080/"
    },
    "id": "90RHgRlcu3x5",
    "outputId": "2e43fdc0-2a62-46a5-9376-026a47a89d13"
   },
   "outputs": [
    {
     "name": "stdout",
     "output_type": "stream",
     "text": [
      "cholesky\n",
      "cond\n",
      "det\n",
      "eig\n",
      "eigh\n",
      "eigvals\n",
      "eigvalsh\n",
      "inv\n",
      "linalg\n",
      "lstsq\n",
      "norm\n",
      "pinv\n",
      "qr\n",
      "slogdet\n",
      "solve\n",
      "svd\n",
      "tensorinv\n",
      "tensorsolve\n",
      "test\n"
     ]
    }
   ],
   "source": [
    "print(*list(filter(lambda x: '_' not in x and x.islower(), dir(np.linalg))), sep='\\n')"
   ]
  },
  {
   "cell_type": "markdown",
   "metadata": {
    "id": "lE6bblWUx9Yn"
   },
   "source": [
    "### Min, max, sum, etc"
   ]
  },
  {
   "cell_type": "code",
   "execution_count": 193,
   "metadata": {
    "colab": {
     "base_uri": "https://localhost:8080/"
    },
    "id": "fuW0eoM-u30b",
    "outputId": "a877ac70-d640-4f07-812a-46a76aa741c9"
   },
   "outputs": [
    {
     "data": {
      "text/plain": [
       "array([[[ 1,  2,  3],\n",
       "        [ 4,  5,  6]],\n",
       "\n",
       "       [[11, 22, 33],\n",
       "        [44, 55, 66]]])"
      ]
     },
     "execution_count": 193,
     "metadata": {
      "tags": []
     },
     "output_type": "execute_result"
    }
   ],
   "source": [
    "s = np.array([[[1,2,3],[4,5,6]], [[11,22,33],[44,55,66]]])\n",
    "s"
   ]
  },
  {
   "cell_type": "code",
   "execution_count": 194,
   "metadata": {
    "colab": {
     "base_uri": "https://localhost:8080/"
    },
    "id": "5FWSevBAzLiU",
    "outputId": "29037a34-3e41-4127-beea-67e9f8e67df6"
   },
   "outputs": [
    {
     "name": "stdout",
     "output_type": "stream",
     "text": [
      "1\n",
      "[[1 2 3]\n",
      " [4 5 6]]\n",
      "[[ 1  2  3]\n",
      " [11 22 33]]\n",
      "[[ 1  4]\n",
      " [11 44]]\n"
     ]
    }
   ],
   "source": [
    "print(np.min(s))\n",
    "print(np.min(s, axis=0))\n",
    "print(np.min(s, axis=1))\n",
    "print(np.min(s, axis=2))"
   ]
  },
  {
   "cell_type": "code",
   "execution_count": 195,
   "metadata": {
    "colab": {
     "base_uri": "https://localhost:8080/"
    },
    "id": "YOnfKYyGyoA8",
    "outputId": "e96ed3ff-4027-4fbe-bf6c-c23cbe724ebd"
   },
   "outputs": [
    {
     "data": {
      "text/plain": [
       "array([[1, 2, 3],\n",
       "       [4, 5, 6]])"
      ]
     },
     "execution_count": 195,
     "metadata": {
      "tags": []
     },
     "output_type": "execute_result"
    }
   ],
   "source": [
    "np.amin(s, axis=0)"
   ]
  },
  {
   "cell_type": "code",
   "execution_count": 196,
   "metadata": {
    "colab": {
     "base_uri": "https://localhost:8080/"
    },
    "id": "TWC8FWXbu33A",
    "outputId": "86b50b5a-d77c-44c3-9a2e-fee18d4ab225"
   },
   "outputs": [
    {
     "name": "stdout",
     "output_type": "stream",
     "text": [
      "66\n",
      "[[11 22 33]\n",
      " [44 55 66]]\n",
      "[[ 4  5  6]\n",
      " [44 55 66]]\n",
      "[[ 3  6]\n",
      " [33 66]]\n"
     ]
    }
   ],
   "source": [
    "# Return the maximum of an array or maximum along an axis. Returns maximum of a. If axis is None, the result is a scalar value. If axis is given, the result is an array of dimension a.ndim - 1.\n",
    "print(np.max(s))\n",
    "print(np.max(s, axis=0))\n",
    "print(np.max(s, axis=1))\n",
    "print(np.max(s, axis=2))"
   ]
  },
  {
   "cell_type": "code",
   "execution_count": 197,
   "metadata": {
    "colab": {
     "base_uri": "https://localhost:8080/"
    },
    "id": "TmQKvyW7ynTB",
    "outputId": "6675497d-089d-46f1-d718-4b1be412b8a6"
   },
   "outputs": [
    {
     "data": {
      "text/plain": [
       "array([[11, 22, 33],\n",
       "       [44, 55, 66]])"
      ]
     },
     "execution_count": 197,
     "metadata": {
      "tags": []
     },
     "output_type": "execute_result"
    }
   ],
   "source": [
    "np.amax(s, axis=0)"
   ]
  },
  {
   "cell_type": "code",
   "execution_count": 198,
   "metadata": {
    "colab": {
     "base_uri": "https://localhost:8080/"
    },
    "id": "TK-__yhYySxQ",
    "outputId": "2cb7274c-1a95-46e6-b3dd-8990d4f88f92"
   },
   "outputs": [
    {
     "name": "stdout",
     "output_type": "stream",
     "text": [
      "252\n",
      "[[12 24 36]\n",
      " [48 60 72]]\n",
      "[[ 5  7  9]\n",
      " [55 77 99]]\n",
      "[[  6  15]\n",
      " [ 66 165]]\n"
     ]
    }
   ],
   "source": [
    "print(np.sum(s))\n",
    "print(np.sum(s, axis=0))\n",
    "print(np.sum(s, axis=1))\n",
    "print(np.sum(s, axis=2))"
   ]
  },
  {
   "cell_type": "code",
   "execution_count": 199,
   "metadata": {
    "colab": {
     "base_uri": "https://localhost:8080/"
    },
    "id": "zJLe-LkQ0Ztx",
    "outputId": "195f6cfe-d85e-4fea-fc94-06c4b9fed0d8"
   },
   "outputs": [
    {
     "name": "stdout",
     "output_type": "stream",
     "text": [
      "[[[8]\n",
      "  [3]\n",
      "  [5]]\n",
      "\n",
      " [[8]\n",
      "  [5]\n",
      "  [3]]]\n",
      "[[[4]\n",
      "  [7]\n",
      "  [4]]\n",
      "\n",
      " [[8]\n",
      "  [1]\n",
      "  [4]]]\n"
     ]
    }
   ],
   "source": [
    "mat1 = np.random.randint(1, 10, (2,3,1))\n",
    "mat2 = np.random.randint(1, 10, (2,3,1))\n",
    "print(mat1)\n",
    "print(mat2)"
   ]
  },
  {
   "cell_type": "code",
   "execution_count": 200,
   "metadata": {
    "colab": {
     "base_uri": "https://localhost:8080/"
    },
    "id": "t_00aQ0S0Zwk",
    "outputId": "4979a8cf-caa6-4fbf-86df-456186f4bca5"
   },
   "outputs": [
    {
     "data": {
      "text/plain": [
       "array([[[8],\n",
       "        [7],\n",
       "        [5]],\n",
       "\n",
       "       [[8],\n",
       "        [5],\n",
       "        [4]]])"
      ]
     },
     "execution_count": 200,
     "metadata": {
      "tags": []
     },
     "output_type": "execute_result"
    }
   ],
   "source": [
    "# Element-wise maximum of array elements. The maximum is equivalent to np.where(x1 >= x2, x1, x2) when neither x1 nor x2 are nans, but it is faster and does proper broadcasting.\n",
    "np.maximum(mat1, mat2)"
   ]
  },
  {
   "cell_type": "code",
   "execution_count": 201,
   "metadata": {
    "colab": {
     "base_uri": "https://localhost:8080/"
    },
    "id": "1TLkc6680ZzN",
    "outputId": "f06a5e93-07e0-471e-c388-3353b9284d2f"
   },
   "outputs": [
    {
     "data": {
      "text/plain": [
       "array([[[4],\n",
       "        [3],\n",
       "        [4]],\n",
       "\n",
       "       [[8],\n",
       "        [1],\n",
       "        [3]]])"
      ]
     },
     "execution_count": 201,
     "metadata": {
      "tags": []
     },
     "output_type": "execute_result"
    }
   ],
   "source": [
    "np.minimum(mat1, mat2)"
   ]
  },
  {
   "cell_type": "markdown",
   "metadata": {
    "id": "1nv9d0L015Vs"
   },
   "source": [
    "## Horizontal and vertical stacking, concatenate"
   ]
  },
  {
   "cell_type": "code",
   "execution_count": 202,
   "metadata": {
    "colab": {
     "base_uri": "https://localhost:8080/"
    },
    "id": "AweOWF6r0Z1d",
    "outputId": "59d3e3af-0a37-4f22-947a-fb947494fe32"
   },
   "outputs": [
    {
     "data": {
      "text/plain": [
       "array([[1, 2, 3, 4],\n",
       "       [1, 2, 3, 4],\n",
       "       [5, 6, 7, 8]])"
      ]
     },
     "execution_count": 202,
     "metadata": {
      "tags": []
     },
     "output_type": "execute_result"
    }
   ],
   "source": [
    "# Stack arrays in sequence vertically (row wise). This is equivalent to concatenation along the first axis after 1-D arrays of shape (N,) have been reshaped to (1,N). Rebuilds arrays divided by vsplit.\n",
    "v1 = np.array([[1,2,3,4], [1,2,3,4]])\n",
    "v2 = np.array([5,6,7,8])\n",
    "np.vstack([v1, v2])"
   ]
  },
  {
   "cell_type": "code",
   "execution_count": 203,
   "metadata": {
    "colab": {
     "base_uri": "https://localhost:8080/"
    },
    "id": "LtXhkLsZ0Z3S",
    "outputId": "046d290b-5a3b-4bd3-d2d2-97819270ed90"
   },
   "outputs": [
    {
     "data": {
      "text/plain": [
       "array([[  1,   2,   3,   4,   5,   6,   7,   8],\n",
       "       [  1,   2,   3,   4, 500, 600, 700, 800]])"
      ]
     },
     "execution_count": 203,
     "metadata": {
      "tags": []
     },
     "output_type": "execute_result"
    }
   ],
   "source": [
    "# Stack arrays in sequence horizontally (column wise). This is equivalent to concatenation along the second axis, except for 1-D arrays where it concatenates along the first axis. Rebuilds arrays divided by hsplit.\n",
    "v1 = np.array([[1,2,3,4], [1,2,3,4]])\n",
    "v2 = np.array([[5,6,7,8], [500,600,700,800]])\n",
    "np.hstack([v1, v2])"
   ]
  },
  {
   "cell_type": "code",
   "execution_count": 204,
   "metadata": {
    "colab": {
     "base_uri": "https://localhost:8080/"
    },
    "id": "U-2-C-fV3A__",
    "outputId": "3c5db60f-8eda-413a-ff86-d44d33024b7c"
   },
   "outputs": [
    {
     "data": {
      "text/plain": [
       "array([[  1,   2,   3,   4],\n",
       "       [  1,   2,   3,   4],\n",
       "       [  5,   6,   7,   8],\n",
       "       [500, 600, 700, 800]])"
      ]
     },
     "execution_count": 204,
     "metadata": {
      "tags": []
     },
     "output_type": "execute_result"
    }
   ],
   "source": [
    "# Join a sequence of arrays along an existing axis.\n",
    "np.concatenate([v1, v2], axis=0, out=None)"
   ]
  },
  {
   "cell_type": "code",
   "execution_count": 205,
   "metadata": {
    "colab": {
     "base_uri": "https://localhost:8080/"
    },
    "id": "_7zSFhBv4E5m",
    "outputId": "eb613672-f793-40d9-ffae-281ac9c8a1b8"
   },
   "outputs": [
    {
     "data": {
      "text/plain": [
       "array([[  1,   2,   3,   4,   5,   6,   7,   8],\n",
       "       [  1,   2,   3,   4, 500, 600, 700, 800]])"
      ]
     },
     "execution_count": 205,
     "metadata": {
      "tags": []
     },
     "output_type": "execute_result"
    }
   ],
   "source": [
    "np.concatenate([v1, v2], axis=1, out=None)"
   ]
  }
 ],
 "metadata": {
  "colab": {
   "name": "numpy_tutorial.ipynb",
   "provenance": []
  },
  "kernelspec": {
   "display_name": "Python 3",
   "language": "python",
   "name": "python3"
  },
  "language_info": {
   "codemirror_mode": {
    "name": "ipython",
    "version": 3
   },
   "file_extension": ".py",
   "mimetype": "text/x-python",
   "name": "python",
   "nbconvert_exporter": "python",
   "pygments_lexer": "ipython3",
   "version": "3.7.4"
  }
 },
 "nbformat": 4,
 "nbformat_minor": 1
}
